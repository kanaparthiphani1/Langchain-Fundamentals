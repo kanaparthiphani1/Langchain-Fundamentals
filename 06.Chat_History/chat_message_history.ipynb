{
 "cells": [
  {
   "cell_type": "markdown",
   "id": "6487161e",
   "metadata": {},
   "source": [
    "#### Chat Message History"
   ]
  },
  {
   "cell_type": "code",
   "execution_count": 3,
   "id": "93f2fe47",
   "metadata": {},
   "outputs": [],
   "source": [
    "import os\n",
    "from dotenv import load_dotenv\n",
    "load_dotenv()\n",
    "\n",
    "groq_api_key=os.getenv(\"GROQ_API_KEY\")"
   ]
  },
  {
   "cell_type": "code",
   "execution_count": 5,
   "id": "b7379d3b",
   "metadata": {},
   "outputs": [
    {
     "data": {
      "text/plain": [
       "ChatGroq(client=<groq.resources.chat.completions.Completions object at 0x000002192D46D5A0>, async_client=<groq.resources.chat.completions.AsyncCompletions object at 0x000002192D46CE20>, model_name='Gemma2-9b-It', model_kwargs={}, groq_api_key=SecretStr('**********'))"
      ]
     },
     "execution_count": 5,
     "metadata": {},
     "output_type": "execute_result"
    }
   ],
   "source": [
    "from langchain_groq import ChatGroq\n",
    "model=ChatGroq(model=\"Gemma2-9b-It\",api_key=groq_api_key)\n",
    "model"
   ]
  },
  {
   "cell_type": "code",
   "execution_count": 6,
   "id": "c5cfbdf0",
   "metadata": {},
   "outputs": [],
   "source": [
    "from langchain_community.chat_message_histories import ChatMessageHistory\n",
    "from langchain_core.chat_history import BaseChatMessageHistory\n",
    "from langchain_core.runnables.history import RunnableWithMessageHistory\n",
    "\n",
    "sessions = {}\n",
    "def get_session_hist(session_id: str)-> BaseChatMessageHistory:\n",
    "    if session_id not in sessions:\n",
    "        sessions[session_id] = ChatMessageHistory()\n",
    "    return sessions[session_id]\n",
    "\n",
    "with_message_history = RunnableWithMessageHistory(model,get_session_history=get_session_hist)"
   ]
  },
  {
   "cell_type": "code",
   "execution_count": 7,
   "id": "1176b52f",
   "metadata": {},
   "outputs": [],
   "source": [
    "config={\"configurable\":{\"session_id\":\"phani\"}}"
   ]
  },
  {
   "cell_type": "code",
   "execution_count": 8,
   "id": "d4aa4ce5",
   "metadata": {},
   "outputs": [],
   "source": [
    "from langchain_core.messages import HumanMessage\n",
    "response=with_message_history.invoke(\n",
    "    [HumanMessage(content=\"Hi , My name is Phanindra and I am a SDE 2 in NewFold Digital Company and my expertise is in Java Backend Development\")],\n",
    "    config=config\n",
    ")"
   ]
  },
  {
   "cell_type": "code",
   "execution_count": 11,
   "id": "42fc4e07",
   "metadata": {},
   "outputs": [
    {
     "data": {
      "text/plain": [
       "\"Your name is Phanindra.  \\n\\nI'm ready for another question if you have one! 😄  What can I help you with next?\\n\""
      ]
     },
     "execution_count": 11,
     "metadata": {},
     "output_type": "execute_result"
    }
   ],
   "source": [
    "response=with_message_history.invoke(\n",
    "    [HumanMessage(content=\"What is my name?\")],\n",
    "    config=config\n",
    ")\n",
    "response.content"
   ]
  },
  {
   "cell_type": "code",
   "execution_count": 12,
   "id": "8269fc35",
   "metadata": {},
   "outputs": [
    {
     "data": {
      "text/plain": [
       "\"You are a SDE 2 (Software Development Engineer 2) at NewFold Digital. \\n\\nIs there anything else you'd like to know or discuss?  I'm here to help! 😊  💻\\n\""
      ]
     },
     "execution_count": 12,
     "metadata": {},
     "output_type": "execute_result"
    }
   ],
   "source": [
    "response=with_message_history.invoke(\n",
    "    [HumanMessage(content=\"What is my profession?\")],\n",
    "    config=config\n",
    ")\n",
    "response.content"
   ]
  },
  {
   "cell_type": "code",
   "execution_count": 13,
   "id": "a55266fc",
   "metadata": {},
   "outputs": [
    {
     "data": {
      "text/plain": [
       "\"No, you are a **backend** developer.  \\n\\nYou mentioned your expertise is in Java backend development.  \\n\\nDo you have any other questions about your role or anything else?  I'm here to chat! 😊\\n\""
      ]
     },
     "execution_count": 13,
     "metadata": {},
     "output_type": "execute_result"
    }
   ],
   "source": [
    "response=with_message_history.invoke(\n",
    "    [HumanMessage(content=\"am i frontend developer?\")],\n",
    "    config=config\n",
    ")\n",
    "response.content"
   ]
  },
  {
   "cell_type": "code",
   "execution_count": null,
   "id": "4dc09ad5",
   "metadata": {},
   "outputs": [],
   "source": []
  }
 ],
 "metadata": {
  "kernelspec": {
   "display_name": "Python 3",
   "language": "python",
   "name": "python3"
  },
  "language_info": {
   "codemirror_mode": {
    "name": "ipython",
    "version": 3
   },
   "file_extension": ".py",
   "mimetype": "text/x-python",
   "name": "python",
   "nbconvert_exporter": "python",
   "pygments_lexer": "ipython3",
   "version": "3.10.0"
  }
 },
 "nbformat": 4,
 "nbformat_minor": 5
}
