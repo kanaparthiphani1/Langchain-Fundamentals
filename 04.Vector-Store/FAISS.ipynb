{
 "cells": [
  {
   "cell_type": "code",
   "execution_count": 7,
   "id": "6fb4d971",
   "metadata": {},
   "outputs": [
    {
     "name": "stderr",
     "output_type": "stream",
     "text": [
      "Created a chunk of size 320, which is longer than the specified 300\n"
     ]
    }
   ],
   "source": [
    "from langchain_community.document_loaders import TextLoader\n",
    "from langchain_community.vectorstores import FAISS\n",
    "from langchain_ollama import OllamaEmbeddings\n",
    "from langchain_text_splitters import CharacterTextSplitter\n",
    "\n",
    "loader=TextLoader(\"../00.Data/text.txt\")\n",
    "documents=loader.load()\n",
    "text_splitter=CharacterTextSplitter(chunk_size=300,chunk_overlap=30)\n",
    "docs=text_splitter.split_documents(documents)\n"
   ]
  },
  {
   "cell_type": "code",
   "execution_count": 8,
   "id": "1cc736a1",
   "metadata": {},
   "outputs": [
    {
     "data": {
      "text/plain": [
       "<langchain_community.vectorstores.faiss.FAISS at 0x22a65bea800>"
      ]
     },
     "execution_count": 8,
     "metadata": {},
     "output_type": "execute_result"
    }
   ],
   "source": [
    "embeddings=OllamaEmbeddings(model=\"gemma:2b\")\n",
    "db=FAISS.from_documents(docs,embeddings)\n",
    "db"
   ]
  },
  {
   "cell_type": "markdown",
   "id": "d1731913",
   "metadata": {},
   "source": [
    "#### Retriever"
   ]
  },
  {
   "cell_type": "code",
   "execution_count": 9,
   "id": "9c40b7a8",
   "metadata": {},
   "outputs": [
    {
     "data": {
      "text/plain": [
       "'Natural Language Processing (NLP) – Enables machines to understand, interpret, and generate human language (used in chatbots, translation, summarization).\\n\\nComputer Vision – AI that allows machines to interpret and process visual information from the world (image recognition, object detection).'"
      ]
     },
     "execution_count": 9,
     "metadata": {},
     "output_type": "execute_result"
    }
   ],
   "source": [
    "query = \"what is Computer Vision?\"\n",
    "retriever=db.as_retriever()\n",
    "docs=retriever.invoke(query)\n",
    "docs[0].page_content"
   ]
  },
  {
   "cell_type": "code",
   "execution_count": 10,
   "id": "d358c8b8",
   "metadata": {},
   "outputs": [
    {
     "data": {
      "text/plain": [
       "[(Document(id='1db8664a-78cc-45c2-bae0-63b56da961cc', metadata={'source': '../00.Data/text.txt'}, page_content='Natural Language Processing (NLP) – Enables machines to understand, interpret, and generate human language (used in chatbots, translation, summarization).\\n\\nComputer Vision – AI that allows machines to interpret and process visual information from the world (image recognition, object detection).'),\n",
       "  np.float32(0.3968156)),\n",
       " (Document(id='24a80052-b186-49fb-8d55-318db8abd03a', metadata={'source': '../00.Data/text.txt'}, page_content='Do you want me to make this simple for beginners (like an intro for Discord/LinkedIn) or more technical and detailed (with algorithms, math, and architectures)?'),\n",
       "  np.float32(0.5270394)),\n",
       " (Document(id='186289e7-468e-4bfd-85a3-5d89c7f87af9', metadata={'source': '../00.Data/text.txt'}, page_content='AI is evolving towards general intelligence (AGI), where machines can perform a wide range of tasks like humans. While it holds massive potential, it also raises ethical concerns like bias, job displacement, and data privacy. Responsible AI development and governance are critical to ensure a safe and beneficial future.'),\n",
       "  np.float32(0.5362257)),\n",
       " (Document(id='71a694fc-c384-454f-b50b-0b836fc69fb5', metadata={'source': '../00.Data/text.txt'}, page_content='Key Subfields of AI\\n\\nMachine Learning (ML) – Teaching machines to learn from data and improve performance over time without being explicitly programmed.\\n\\nDeep Learning – A subset of ML that uses neural networks with multiple layers, enabling breakthroughs in vision, speech, and natural language.'),\n",
       "  np.float32(0.53765213))]"
      ]
     },
     "execution_count": 10,
     "metadata": {},
     "output_type": "execute_result"
    }
   ],
   "source": [
    "docs_and_score=db.similarity_search_with_score(query)\n",
    "docs_and_score"
   ]
  },
  {
   "cell_type": "code",
   "execution_count": 11,
   "id": "6926a14a",
   "metadata": {},
   "outputs": [],
   "source": [
    "#saving in local\n",
    "db.save_local(\"faiss_index\")"
   ]
  },
  {
   "cell_type": "code",
   "execution_count": 12,
   "id": "5ab0250d",
   "metadata": {},
   "outputs": [],
   "source": [
    "# loading from local\n",
    "new_db=FAISS.load_local(\"faiss_index\",embeddings,allow_dangerous_deserialization=True)\n",
    "docs=new_db.similarity_search(query)"
   ]
  },
  {
   "cell_type": "code",
   "execution_count": 13,
   "id": "3ca20b33",
   "metadata": {},
   "outputs": [
    {
     "data": {
      "text/plain": [
       "[Document(id='1db8664a-78cc-45c2-bae0-63b56da961cc', metadata={'source': '../00.Data/text.txt'}, page_content='Natural Language Processing (NLP) – Enables machines to understand, interpret, and generate human language (used in chatbots, translation, summarization).\\n\\nComputer Vision – AI that allows machines to interpret and process visual information from the world (image recognition, object detection).'),\n",
       " Document(id='24a80052-b186-49fb-8d55-318db8abd03a', metadata={'source': '../00.Data/text.txt'}, page_content='Do you want me to make this simple for beginners (like an intro for Discord/LinkedIn) or more technical and detailed (with algorithms, math, and architectures)?'),\n",
       " Document(id='186289e7-468e-4bfd-85a3-5d89c7f87af9', metadata={'source': '../00.Data/text.txt'}, page_content='AI is evolving towards general intelligence (AGI), where machines can perform a wide range of tasks like humans. While it holds massive potential, it also raises ethical concerns like bias, job displacement, and data privacy. Responsible AI development and governance are critical to ensure a safe and beneficial future.'),\n",
       " Document(id='71a694fc-c384-454f-b50b-0b836fc69fb5', metadata={'source': '../00.Data/text.txt'}, page_content='Key Subfields of AI\\n\\nMachine Learning (ML) – Teaching machines to learn from data and improve performance over time without being explicitly programmed.\\n\\nDeep Learning – A subset of ML that uses neural networks with multiple layers, enabling breakthroughs in vision, speech, and natural language.')]"
      ]
     },
     "execution_count": 13,
     "metadata": {},
     "output_type": "execute_result"
    }
   ],
   "source": [
    "docs"
   ]
  }
 ],
 "metadata": {
  "kernelspec": {
   "display_name": "Python 3",
   "language": "python",
   "name": "python3"
  },
  "language_info": {
   "codemirror_mode": {
    "name": "ipython",
    "version": 3
   },
   "file_extension": ".py",
   "mimetype": "text/x-python",
   "name": "python",
   "nbconvert_exporter": "python",
   "pygments_lexer": "ipython3",
   "version": "3.10.0"
  }
 },
 "nbformat": 4,
 "nbformat_minor": 5
}
